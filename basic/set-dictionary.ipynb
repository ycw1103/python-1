{
 "cells": [
  {
   "cell_type": "markdown",
   "id": "7f5ca25a",
   "metadata": {},
   "source": [
    "集合(set)的運算{ }"
   ]
  },
  {
   "cell_type": "code",
   "execution_count": 1,
   "id": "f3ea19f7",
   "metadata": {},
   "outputs": [
    {
     "name": "stdout",
     "output_type": "stream",
     "text": [
      "True\n",
      "False\n",
      "True\n",
      "{4, 5}\n",
      "{3, 4, 5, 6, 7}\n",
      "{3}\n",
      "{6, 7}\n",
      "{3, 6, 7}\n"
     ]
    }
   ],
   "source": [
    "s1={3,4,5}\n",
    "print(3 in s1)\n",
    "print(10 in s1)\n",
    "print(10 not in s1)\n",
    "s2={4,5,6,7}\n",
    "s3=s1&s2 #交集：取兩個集合中，相同的資料 #{4,5}\n",
    "print(s3)\n",
    "s4=s1|s2 #聯集：取兩個集合中的所有資料，但不重複取 #{3,4,5,6,7}\n",
    "print(s4)\n",
    "s5=s1-s2 #差集：從s1中，減去和s2重疊的部分 #{3}\n",
    "s6=s2-s1 #從s2中，減去和s1重疊的部分 #{6,7}\n",
    "print(s5)\n",
    "print(s6)\n",
    "s7=s1^s2 #反交集：取兩個集合中，不重疊的部分 #{3,6,7}\n",
    "print(s7)"
   ]
  },
  {
   "cell_type": "code",
   "execution_count": 2,
   "id": "fe05ff4c",
   "metadata": {},
   "outputs": [
    {
     "name": "stdout",
     "output_type": "stream",
     "text": [
      "{'e', 'o', 'l', 'H'}\n",
      "True\n",
      "False\n"
     ]
    }
   ],
   "source": [
    "s=set('Hello') #set(字串) #字串拆解成集合\n",
    "print(s)\n",
    "print('H' in s)\n",
    "print('A' in s)"
   ]
  },
  {
   "cell_type": "markdown",
   "id": "c578de07",
   "metadata": {},
   "source": [
    "字典(dic)的運算：key-value 配對"
   ]
  },
  {
   "cell_type": "code",
   "execution_count": 4,
   "id": "3b8f92a9",
   "metadata": {},
   "outputs": [
    {
     "name": "stdout",
     "output_type": "stream",
     "text": [
      "蘋果\n",
      "小蘋果\n",
      "True\n",
      "False\n",
      "True\n",
      "{'apple': '小蘋果', 'bug': '蟲蟲'}\n",
      "{'bug': '蟲蟲'}\n"
     ]
    }
   ],
   "source": [
    "dic={'apple':'蘋果','bug':'蟲蟲'}\n",
    "print(dic['apple']) #用key取得value\n",
    "dic['apple']='小蘋果' #修改value\n",
    "print(dic['apple'])\n",
    "print('apple' in dic) #判斷key是否存在\n",
    "print('test' in dic)\n",
    "print('test' not in dic)\n",
    "print(dic)\n",
    "del dic['apple'] #刪除字典中的鍵值對(key-value pair)\n",
    "print(dic)"
   ]
  },
  {
   "cell_type": "code",
   "execution_count": 5,
   "id": "4abfff5d",
   "metadata": {},
   "outputs": [
    {
     "name": "stdout",
     "output_type": "stream",
     "text": [
      "{3: 6, 4: 8, 5: 10}\n"
     ]
    }
   ],
   "source": [
    "dic={x:x*2 for x in [3,4,5]} #從列表的資料產生字典 #[key:value for key in 列表] #{3:6,4:8,5:10}\n",
    "print(dic)"
   ]
  }
 ],
 "metadata": {
  "kernelspec": {
   "display_name": "Python 3 (ipykernel)",
   "language": "python",
   "name": "python3"
  },
  "language_info": {
   "codemirror_mode": {
    "name": "ipython",
    "version": 3
   },
   "file_extension": ".py",
   "mimetype": "text/x-python",
   "name": "python",
   "nbconvert_exporter": "python",
   "pygments_lexer": "ipython3",
   "version": "3.9.7"
  }
 },
 "nbformat": 4,
 "nbformat_minor": 5
}
