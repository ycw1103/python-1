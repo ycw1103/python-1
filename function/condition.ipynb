{
 "cells": [
  {
   "cell_type": "markdown",
   "id": "fc75c004",
   "metadata": {},
   "source": [
    "# if-else判斷式"
   ]
  },
  {
   "cell_type": "markdown",
   "id": "24f191d2",
   "metadata": {},
   "source": [
    "if 布林值:\n",
    "    若布林值一為True，執行命令\n",
    "elif 布林值二:\n",
    "    若布林值二為True，執行命令\n",
    "else:\n",
    "    若布林值一和二都False，執行命令"
   ]
  },
  {
   "cell_type": "code",
   "execution_count": 3,
   "id": "5b7f1f53",
   "metadata": {},
   "outputs": [
    {
     "name": "stdout",
     "output_type": "stream",
     "text": [
      "請輸入數字：2\n",
      "小於100\n"
     ]
    }
   ],
   "source": [
    "x=input('請輸入數字：') #取得字串形式的信息\n",
    "x=int(x) #轉換為整數型態\n",
    "if x>200:\n",
    "    print('大於200')\n",
    "elif x>100:\n",
    "    print('大於100，小於200')\n",
    "else:\n",
    "    print('小於100')"
   ]
  },
  {
   "cell_type": "code",
   "execution_count": 4,
   "id": "04370860",
   "metadata": {},
   "outputs": [
    {
     "name": "stdout",
     "output_type": "stream",
     "text": [
      "True 執行\n"
     ]
    }
   ],
   "source": [
    "if True:\n",
    "    print('True 執行')\n",
    "else:\n",
    "    print('False 執行')"
   ]
  },
  {
   "cell_type": "code",
   "execution_count": 5,
   "id": "ddf0413c",
   "metadata": {},
   "outputs": [
    {
     "name": "stdout",
     "output_type": "stream",
     "text": [
      "False 執行\n"
     ]
    }
   ],
   "source": [
    "if False:\n",
    "    print('True 執行')\n",
    "else:\n",
    "    print('False 執行')"
   ]
  },
  {
   "cell_type": "markdown",
   "id": "548d2786",
   "metadata": {},
   "source": [
    "四則運算"
   ]
  },
  {
   "cell_type": "code",
   "execution_count": 6,
   "id": "36e038e7",
   "metadata": {
    "scrolled": true
   },
   "outputs": [
    {
     "name": "stdout",
     "output_type": "stream",
     "text": [
      "請輸入數字一：10\n",
      "請輸入數字二：5\n",
      "請輸入運算符號+-*/：-\n",
      "5\n"
     ]
    }
   ],
   "source": [
    "n1=int(input('請輸入數字一：'))\n",
    "n2=int(input('請輸入數字二：'))\n",
    "op=input('請輸入運算符號+-*/：')\n",
    "if op==('+'): #兩個等號是比較是否相等，一個等號是指定資料給變數。\n",
    "    print(n1+n2)\n",
    "elif op==('-'):\n",
    "    print(n1-n2)\n",
    "elif op==('*'):\n",
    "    print(n1*n2)\n",
    "elif op==('/'):\n",
    "    print(n1/n2)\n",
    "else:\n",
    "    print(無法運算)"
   ]
  }
 ],
 "metadata": {
  "kernelspec": {
   "display_name": "Python 3 (ipykernel)",
   "language": "python",
   "name": "python3"
  },
  "language_info": {
   "codemirror_mode": {
    "name": "ipython",
    "version": 3
   },
   "file_extension": ".py",
   "mimetype": "text/x-python",
   "name": "python",
   "nbconvert_exporter": "python",
   "pygments_lexer": "ipython3",
   "version": "3.9.7"
  }
 },
 "nbformat": 4,
 "nbformat_minor": 5
}
