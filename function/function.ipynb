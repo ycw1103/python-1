{
 "cells": [
  {
   "cell_type": "markdown",
   "id": "43b2a379",
   "metadata": {},
   "source": [
    "# 函式：程式區塊\n",
    "（將程式碼包裝在一個區塊中，方便隨時呼叫使用）（需要重複利用時會比較方便）"
   ]
  },
  {
   "cell_type": "markdown",
   "id": "88fad336",
   "metadata": {},
   "source": [
    "先定義(建立)函式，然後才能呼叫(使用)函式"
   ]
  },
  {
   "cell_type": "raw",
   "id": "726b781e",
   "metadata": {},
   "source": [
    "1.定義函式\n",
    "def 函式名稱(參數名稱):\n",
    "    函式內部的程式碼\n",
    "2.呼叫函式\n",
    "函式名稱(參數資料)"
   ]
  },
  {
   "cell_type": "code",
   "execution_count": 2,
   "id": "328c3c68",
   "metadata": {},
   "outputs": [
    {
     "name": "stdout",
     "output_type": "stream",
     "text": [
      "Hello\n",
      "Hello Function\n",
      "Hello Python\n",
      "7\n",
      "15\n"
     ]
    }
   ],
   "source": [
    "#定義一個印出Hello的函式\n",
    "def sayHello():\n",
    "    print('Hello')\n",
    "#呼叫上方定義的函式\n",
    "sayHello()#流程：程式跳回函式print的裡面，執行完畢後回來\n",
    "#定義一個印出任何訊息的函式\n",
    "def say(msg):\n",
    "    print(msg)#msg前後兩個要對上\n",
    "#呼叫上方定義的函式\n",
    "say('Hello Function')#參數資料Hello Function放到msg裡面，印出msg，跳回跑下一行\n",
    "say('Hello Python')#流程同上#參數可以讓程式有彈性\n",
    "#定義一個可以做加法的函式\n",
    "def add(n1,n2):\n",
    "    result=n1+n2\n",
    "    print(result)\n",
    "#呼叫上方定義的函式\n",
    "add(3,4)#3放n1,4放n2，3+4=7，印出7，跳回跑下一行\n",
    "add(7,8)#7放n1,8放n2，7+8=15，印出15，跳回，程式結束"
   ]
  },
  {
   "cell_type": "raw",
   "id": "d6a36caf",
   "metadata": {},
   "source": [
    "回傳值(return用來回傳運算完的結果)(才可以讓多個函式做運算)\n",
    "def 函式名稱(參數名稱):\n",
    "    函式內部的程式碼\n",
    "    return #函式強制結束#結束函式，回傳None\n",
    "def 函式名稱(參數名稱):\n",
    "    函式內部的程式碼\n",
    "    return 資料 #結束函式，回傳資料(數字、字串、布林值...)(回傳的資料稱回傳值)"
   ]
  },
  {
   "cell_type": "code",
   "execution_count": 5,
   "id": "c3e709e9",
   "metadata": {},
   "outputs": [
    {
     "name": "stdout",
     "output_type": "stream",
     "text": [
      "Hello Function\n",
      "None\n",
      "Hello\n",
      "7\n"
     ]
    }
   ],
   "source": [
    "#函式回傳None\n",
    "def say(msg):\n",
    "    print(msg)\n",
    "    return\n",
    "#呼叫函式，取得回傳值\n",
    "value=say('Hello Function')#呼叫say()，資料Hello Function放到msg，印出msg，return結束函式跳回此行，回傳值是None，value=None\n",
    "print(value)#印出None\n",
    "#函式回傳字串Hello\n",
    "def add(n1,n2):\n",
    "    result=n1+n2\n",
    "    return 'Hello'\n",
    "#呼叫函式，取得回傳值\n",
    "value=add(3,4)#呼叫add()，資料3放n1,4放n2，n1+n1得result=7，return結束函式，回傳Hello，value=Hello\n",
    "print(value)#印出Hello\n",
    "#函式回傳n1+n2的結果\n",
    "def add(n1,n2):\n",
    "    result=n1+n2\n",
    "    return result\n",
    "#呼叫函式，取得回傳值\n",
    "value=add(3,4)#呼叫add()，資料3放n1,4放n2，n1+n1得result=7，return結束函式，回傳result=7，value=7\n",
    "print(value)#印出7"
   ]
  },
  {
   "cell_type": "code",
   "execution_count": 6,
   "id": "17522a15",
   "metadata": {},
   "outputs": [
    {
     "name": "stdout",
     "output_type": "stream",
     "text": [
      "12\n"
     ]
    }
   ],
   "source": [
    "#定義函式\n",
    "#函式內部的程式碼，若是沒有做函式呼叫，就不會執行\n",
    "def multiply():\n",
    "    print(3*4)\n",
    "#呼叫函式\n",
    "multiply()#印出12"
   ]
  },
  {
   "cell_type": "code",
   "execution_count": 7,
   "id": "6718e650",
   "metadata": {},
   "outputs": [
    {
     "name": "stdout",
     "output_type": "stream",
     "text": [
      "12\n",
      "80\n"
     ]
    }
   ],
   "source": [
    "#定義函式\n",
    "def multiply(n1,n2):#透過參數得到彈性\n",
    "    print(n1*n2)\n",
    "#呼叫函式\n",
    "multiply(3,4)\n",
    "multiply(8,10)"
   ]
  },
  {
   "cell_type": "code",
   "execution_count": 8,
   "id": "3c06d44b",
   "metadata": {},
   "outputs": [
    {
     "name": "stdout",
     "output_type": "stream",
     "text": [
      "12\n",
      "None\n"
     ]
    }
   ],
   "source": [
    "#定義函式\n",
    "def multiply(n1,n2):\n",
    "    print(n1*n2)\n",
    "    return #回傳None\n",
    "#呼叫函式\n",
    "value=multiply(3,4)\n",
    "print(value)"
   ]
  },
  {
   "cell_type": "code",
   "execution_count": 10,
   "id": "2533e722",
   "metadata": {},
   "outputs": [
    {
     "name": "stdout",
     "output_type": "stream",
     "text": [
      "12\n"
     ]
    }
   ],
   "source": [
    "#定義函式\n",
    "def multiply(n1,n2):\n",
    "    #print(n1*n2) #印出函式裡的過程\n",
    "    return n1*n2\n",
    "#呼叫函式\n",
    "value=multiply(3,4)\n",
    "print(value)"
   ]
  },
  {
   "cell_type": "code",
   "execution_count": 11,
   "id": "e957f44f",
   "metadata": {},
   "outputs": [
    {
     "name": "stdout",
     "output_type": "stream",
     "text": [
      "62\n"
     ]
    }
   ],
   "source": [
    "#多個函式運算\n",
    "#定義函式\n",
    "def multiply(n1,n2):\n",
    "    return n1*n2\n",
    "#呼叫函式\n",
    "value=multiply(3,4)+multiply(10,5) #(3*4)+(10*5)\n",
    "print(value)"
   ]
  },
  {
   "cell_type": "code",
   "execution_count": 14,
   "id": "85d5e1cc",
   "metadata": {},
   "outputs": [
    {
     "name": "stdout",
     "output_type": "stream",
     "text": [
      "55\n",
      "210\n"
     ]
    }
   ],
   "source": [
    "#1+2+3+...+10\n",
    "sum=0\n",
    "for n in range(1,11):\n",
    "    sum+=n\n",
    "print(sum)\n",
    "#1+2+3+...+20\n",
    "sum=0\n",
    "for n in range(1,21):\n",
    "    sum+=n\n",
    "print(sum)"
   ]
  },
  {
   "cell_type": "code",
   "execution_count": 15,
   "id": "ab8834ab",
   "metadata": {},
   "outputs": [
    {
     "name": "stdout",
     "output_type": "stream",
     "text": [
      "55\n",
      "210\n"
     ]
    }
   ],
   "source": [
    "#函式可用來做程式的包裝:同樣的邏輯可以重複利用\n",
    "#在函式裡面不會執行\n",
    "def calculate(max):\n",
    "    sum=0\n",
    "    for n in range(1,max+1):\n",
    "        sum+=n\n",
    "    print(sum)\n",
    "#呼叫執行函式\n",
    "calculate(10)\n",
    "calculate(20)"
   ]
  },
  {
   "cell_type": "markdown",
   "id": "17adaa80",
   "metadata": {},
   "source": [
    "# 函式參數"
   ]
  },
  {
   "cell_type": "raw",
   "id": "51a9195a",
   "metadata": {},
   "source": [
    "1.預設資料\n",
    "def 函式名稱(參數名稱=預設資料):\n",
    "    函式內部的程式碼"
   ]
  },
  {
   "cell_type": "code",
   "execution_count": 16,
   "id": "9bd7fceb",
   "metadata": {},
   "outputs": [
    {
     "name": "stdout",
     "output_type": "stream",
     "text": [
      "Hello Function\n",
      "Hello\n"
     ]
    }
   ],
   "source": [
    "#定義函式\n",
    "#參數msg預設資料為'Hello'\n",
    "def say(msg='Hello'):\n",
    "    print(msg)\n",
    "#呼叫函式\n",
    "say('Hello Function')#印出Hello Function\n",
    "say()#印出預設資料Hello"
   ]
  },
  {
   "cell_type": "code",
   "execution_count": 2,
   "id": "a71c9521",
   "metadata": {},
   "outputs": [
    {
     "name": "stdout",
     "output_type": "stream",
     "text": [
      "9\n",
      "1\n"
     ]
    }
   ],
   "source": [
    "#參數的預設資料\n",
    "def power(base,exp=0):#exp預設參數為0\n",
    "    print(base**exp)#次方函式\n",
    "#呼叫函式\n",
    "power(3,2)#3的2次方，印出9\n",
    "power(4)#4的0次方(預設值exp為0)，得到1 #如過沒有預設值則為error，因為沒有給第二個資料"
   ]
  },
  {
   "cell_type": "raw",
   "id": "50457683",
   "metadata": {},
   "source": [
    "2.名稱對應\n",
    "def 函式名稱(名稱1,名稱2):\n",
    "    函式內部的程式碼\n",
    "#呼叫函式，以參數名稱對應資料\n",
    "函式名稱(名稱2=3,名稱1=5)#3放到名稱2,5放到名稱1#不管順序"
   ]
  },
  {
   "cell_type": "code",
   "execution_count": 17,
   "id": "baec5155",
   "metadata": {},
   "outputs": [
    {
     "name": "stdout",
     "output_type": "stream",
     "text": [
      "0.5\n",
      "2.0\n"
     ]
    }
   ],
   "source": [
    "#定義一個可以做加法的函式\n",
    "def divide(n1,n2):\n",
    "    result=n1/n2\n",
    "    print(result)\n",
    "#呼叫函式\n",
    "divide(2,4)#沒寫位置就是照函式定義順序排#印出0.5\n",
    "divide(n2=2,n1=4)#印出2.0"
   ]
  },
  {
   "cell_type": "raw",
   "id": "d788e80e",
   "metadata": {},
   "source": [
    "3.無限參數(讓資料量可以彈性放入函式)(不限個數)\n",
    "def 函數名稱(*無限參數):\n",
    "    無限參數以tuple資料形態處理\n",
    "    函式內部的程式碼\n",
    "#呼叫函式，可傳入無線數量的參數\n",
    "函式名稱(資料一,資料二,資料三)#不管放幾個資料都可以#無限制"
   ]
  },
  {
   "cell_type": "code",
   "execution_count": 1,
   "id": "ac348e41",
   "metadata": {},
   "outputs": [
    {
     "name": "stdout",
     "output_type": "stream",
     "text": [
      "Hello\n",
      "Arbitrary\n",
      "Arguments\n"
     ]
    }
   ],
   "source": [
    "#函式接受無限參數msgs\n",
    "def say(*msgs):\n",
    "    #以tuple的方式處理\n",
    "    for msg in msgs:#msgs以tuple形式代入：('Hello','Arbitrary','Arguments')\n",
    "        print(msg)#從tuple中一一印出\n",
    "#呼叫函式，傳入三個參數資料\n",
    "say('Hello','Arbitrary','Arguments')"
   ]
  },
  {
   "cell_type": "code",
   "execution_count": 3,
   "id": "16ca2fea",
   "metadata": {},
   "outputs": [
    {
     "name": "stdout",
     "output_type": "stream",
     "text": [
      "(3, 4)\n",
      "(3, 5, 10)\n",
      "(1, 4, -1, -8)\n"
     ]
    }
   ],
   "source": [
    "#無限/不定 參數資料\n",
    "def avg(*ns):\n",
    "    print(ns)#把參數資料以tuple形式代入\n",
    "avg(3,4)\n",
    "avg(3,5,10)\n",
    "avg(1,4,-1,-8)"
   ]
  },
  {
   "cell_type": "code",
   "execution_count": 4,
   "id": "159ce60f",
   "metadata": {},
   "outputs": [
    {
     "name": "stdout",
     "output_type": "stream",
     "text": [
      "3\n",
      "4\n"
     ]
    }
   ],
   "source": [
    "def avg(*ns):\n",
    "    for n in ns:#迴圈是一個很好運用tuple的方式\n",
    "        print(n)#把tuple中的資料一個一個拿出來放到n，印出來\n",
    "avg(3,4)\n",
    "#avg(3,5,10)\n",
    "#avg(1,4,-1,-8)"
   ]
  },
  {
   "cell_type": "code",
   "execution_count": 5,
   "id": "5b9867d9",
   "metadata": {},
   "outputs": [
    {
     "name": "stdout",
     "output_type": "stream",
     "text": [
      "3.5\n",
      "6.0\n",
      "-1.0\n"
     ]
    }
   ],
   "source": [
    "def avg(*ns):\n",
    "    sum=0\n",
    "    for n in ns:\n",
    "        sum+=n\n",
    "    print(sum/len(ns))#總和/列表長度#平均數\n",
    "avg(3,4)\n",
    "avg(3,5,10)\n",
    "avg(1,4,-1,-8)"
   ]
  }
 ],
 "metadata": {
  "kernelspec": {
   "display_name": "Python 3 (ipykernel)",
   "language": "python",
   "name": "python3"
  },
  "language_info": {
   "codemirror_mode": {
    "name": "ipython",
    "version": 3
   },
   "file_extension": ".py",
   "mimetype": "text/x-python",
   "name": "python",
   "nbconvert_exporter": "python",
   "pygments_lexer": "ipython3",
   "version": "3.9.7"
  }
 },
 "nbformat": 4,
 "nbformat_minor": 5
}
