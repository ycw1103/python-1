{
 "cells": [
  {
   "cell_type": "markdown",
   "id": "a927cc25",
   "metadata": {},
   "source": [
    "# 迴圈"
   ]
  },
  {
   "cell_type": "raw",
   "id": "c4484709",
   "metadata": {},
   "source": [
    "while迴圈：\n",
    "while 布林值:\n",
    "    若布林值為True，執行命令\n",
    "    回到上方，做下一次的迴圈判斷"
   ]
  },
  {
   "cell_type": "code",
   "execution_count": 1,
   "id": "25c0b6f9",
   "metadata": {},
   "outputs": [],
   "source": [
    "#無窮迴圈 #永遠都是True\n",
    "#n=1\n",
    "#while True:\n",
    "    #print(n)\n",
    "    #n+=1"
   ]
  },
  {
   "cell_type": "code",
   "execution_count": 2,
   "id": "315467d1",
   "metadata": {},
   "outputs": [
    {
     "name": "stdout",
     "output_type": "stream",
     "text": [
      "1\n",
      "2\n",
      "3\n",
      "4\n"
     ]
    }
   ],
   "source": [
    "#跑4次迴圈\n",
    "n=1\n",
    "while n<5:\n",
    "    print(n)\n",
    "    n+=1"
   ]
  },
  {
   "cell_type": "code",
   "execution_count": 3,
   "id": "51e7cdb6",
   "metadata": {},
   "outputs": [
    {
     "name": "stdout",
     "output_type": "stream",
     "text": [
      "55\n"
     ]
    }
   ],
   "source": [
    "#1+2+3+...+10 #注意，再看一次\n",
    "n=1\n",
    "sum=0\n",
    "while n<=10:\n",
    "    sum+=n\n",
    "    n+=1\n",
    "print(sum)"
   ]
  },
  {
   "cell_type": "raw",
   "id": "48c8f4d2",
   "metadata": {},
   "source": [
    "for迴圈：\n",
    "for 變數名稱 in 列表或字串：\n",
    "    將列表中的項目或字串中的字源逐一取出，逐一處理"
   ]
  },
  {
   "cell_type": "code",
   "execution_count": 4,
   "id": "6a28b4e6",
   "metadata": {},
   "outputs": [
    {
     "name": "stdout",
     "output_type": "stream",
     "text": [
      "4\n",
      "1\n",
      "2\n",
      "H\n",
      "e\n",
      "l\n",
      "l\n",
      "o\n"
     ]
    }
   ],
   "source": [
    "for x in [4,1,2]:\n",
    "    print(x)\n",
    "\n",
    "for c in 'Hello':\n",
    "    print(c)"
   ]
  },
  {
   "cell_type": "raw",
   "id": "30e873a3",
   "metadata": {},
   "source": [
    "使用range()：#產生連續的數字列表\n",
    "1. for 變數名稱 in range(3):#從0開頭3結尾(不包含)\n",
    "   相當於\n",
    "   for 變數名稱 in [0,1,2]\n",
    "2. for 變數名稱 in range(3,6):#包含頭不包含尾\n",
    "   相當於\n",
    "   for 變數名稱 in [3,4,5]"
   ]
  },
  {
   "cell_type": "code",
   "execution_count": 5,
   "id": "4ed3d612",
   "metadata": {},
   "outputs": [
    {
     "name": "stdout",
     "output_type": "stream",
     "text": [
      "0\n",
      "1\n",
      "2\n",
      "3\n",
      "4\n",
      "5\n",
      "6\n",
      "7\n",
      "8\n",
      "9\n"
     ]
    }
   ],
   "source": [
    "for x in range(5):\n",
    "    print(x)\n",
    "    \n",
    "for c in range(5,10):\n",
    "    print(c)"
   ]
  },
  {
   "cell_type": "code",
   "execution_count": 6,
   "id": "237a78df",
   "metadata": {},
   "outputs": [
    {
     "name": "stdout",
     "output_type": "stream",
     "text": [
      "55\n"
     ]
    }
   ],
   "source": [
    "#1+2+3+...+10\n",
    "sum=0\n",
    "for x in range(1,11):\n",
    "    sum+=x\n",
    "print(sum)"
   ]
  },
  {
   "cell_type": "markdown",
   "id": "97cbbcaa",
   "metadata": {},
   "source": [
    "# 迴圈搭配的指令"
   ]
  },
  {
   "cell_type": "raw",
   "id": "5e2d7df4",
   "metadata": {},
   "source": [
    "強制結束迴圈 break：\n",
    "while 布林值:\n",
    "    break\n",
    "for 變數名稱 in 列表或字串:\n",
    "    break"
   ]
  },
  {
   "cell_type": "code",
   "execution_count": 7,
   "id": "2723f53c",
   "metadata": {},
   "outputs": [
    {
     "name": "stdout",
     "output_type": "stream",
     "text": [
      "1\n",
      "2\n",
      "3\n"
     ]
    }
   ],
   "source": [
    "n=1\n",
    "while n<5:\n",
    "    if n==3:\n",
    "        break\n",
    "    print(n) #印出迴圈中的n\n",
    "    n+=1\n",
    "print(n) #印出迴圈結束後的n #3"
   ]
  },
  {
   "cell_type": "raw",
   "id": "6087e5fc",
   "metadata": {},
   "source": [
    "強制繼續下一圈 continue：\n",
    "while 布林值:\n",
    "    continue\n",
    "for 變數名稱 in 列表或字串:\n",
    "    continue"
   ]
  },
  {
   "cell_type": "code",
   "execution_count": 8,
   "id": "798e0a38",
   "metadata": {},
   "outputs": [
    {
     "name": "stdout",
     "output_type": "stream",
     "text": [
      "1\n",
      "3\n",
      "2\n"
     ]
    }
   ],
   "source": [
    "n=0\n",
    "for x in [0,1,2,3]:\n",
    "    if x%2==0: #如果x被2整除 #x=0,True \n",
    "        continue #執行continue #直接進入下一圈 #忽略下方程式(n+=1)\n",
    "    print(x)\n",
    "    n+=1 #n跑了2次\n",
    "print(n) #印出2"
   ]
  },
  {
   "cell_type": "raw",
   "id": "419822d5",
   "metadata": {},
   "source": [
    "while 布林值:\n",
    "    若布林值為True，執行命令\n",
    "    回到上方，做下一次的迴圈判斷\n",
    "else:\n",
    "    迴圈結束前，執行此區塊的命令\n",
    "for 變數名稱 in 列表或字串:\n",
    "    將列表中的項目或字串中的字元逐一取出，逐一處理\n",
    "else:\n",
    "    迴圈結束前，執行此區塊的命令"
   ]
  },
  {
   "cell_type": "code",
   "execution_count": 9,
   "id": "e1350f27",
   "metadata": {},
   "outputs": [
    {
     "name": "stdout",
     "output_type": "stream",
     "text": [
      "1\n",
      "2\n",
      "3\n",
      "4\n",
      "5\n"
     ]
    }
   ],
   "source": [
    "n=1\n",
    "while n<5:\n",
    "    print(n)\n",
    "    n+=1\n",
    "else:\n",
    "    print(n) #結束迴圈前，印出5"
   ]
  },
  {
   "cell_type": "code",
   "execution_count": 10,
   "id": "5906be9c",
   "metadata": {},
   "outputs": [
    {
     "name": "stdout",
     "output_type": "stream",
     "text": [
      "H\n",
      "e\n",
      "l\n",
      "l\n",
      "o\n",
      "o\n"
     ]
    }
   ],
   "source": [
    "for c in 'Hello':\n",
    "    print(c)\n",
    "else:\n",
    "    print(c)"
   ]
  },
  {
   "cell_type": "code",
   "execution_count": 11,
   "id": "f42f9686",
   "metadata": {},
   "outputs": [
    {
     "name": "stdout",
     "output_type": "stream",
     "text": [
      "55\n"
     ]
    }
   ],
   "source": [
    "#0+1+2+...+10\n",
    "sum=0\n",
    "for n in range(11):\n",
    "    sum+=n\n",
    "else:\n",
    "    print(sum)"
   ]
  },
  {
   "cell_type": "raw",
   "id": "78a36735",
   "metadata": {},
   "source": [
    "#綜合範例: 找出平方根\n",
    "#輸入9: 得到3\n",
    "#輸入12: 得到沒有整數平方根"
   ]
  },
  {
   "cell_type": "code",
   "execution_count": 12,
   "id": "406a7ad5",
   "metadata": {},
   "outputs": [
    {
     "name": "stdout",
     "output_type": "stream",
     "text": [
      "輸入一個正整數：9\n",
      "整數平方根 3\n"
     ]
    }
   ],
   "source": [
    "n=input('輸入一個正整數：')\n",
    "n=int(n) #轉換輸入的字串為數字\n",
    "for i in range(n): #i從0 ~ n-1\n",
    "    if i*i==n:\n",
    "        print('整數平方根',i)\n",
    "        break #用break強制結束迴圈時，不會執行else區塊\n",
    "else:\n",
    "    print('沒有整數平方根')"
   ]
  }
 ],
 "metadata": {
  "kernelspec": {
   "display_name": "Python 3 (ipykernel)",
   "language": "python",
   "name": "python3"
  },
  "language_info": {
   "codemirror_mode": {
    "name": "ipython",
    "version": 3
   },
   "file_extension": ".py",
   "mimetype": "text/x-python",
   "name": "python",
   "nbconvert_exporter": "python",
   "pygments_lexer": "ipython3",
   "version": "3.9.7"
  }
 },
 "nbformat": 4,
 "nbformat_minor": 5
}
