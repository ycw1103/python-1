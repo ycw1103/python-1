{
 "cells": [
  {
   "cell_type": "markdown",
   "id": "d44a2a8e",
   "metadata": {},
   "source": [
    "# 有序列表"
   ]
  },
  {
   "cell_type": "markdown",
   "id": "f9cc378d",
   "metadata": {},
   "source": [
    "List(資料可變動) #[ ]"
   ]
  },
  {
   "cell_type": "code",
   "execution_count": 6,
   "id": "93a41bed",
   "metadata": {
    "scrolled": true
   },
   "outputs": [
    {
     "name": "stdout",
     "output_type": "stream",
     "text": [
      "[12, 60, 15, 70, 90]\n",
      "12\n",
      "70\n",
      "[55, 60, 15, 70, 90]\n",
      "[60, 15, 70]\n",
      "[55, 90]\n",
      "[55, 90, 12, 33]\n",
      "4\n"
     ]
    }
   ],
   "source": [
    "grades=[12,60,15,70,90] #[0,1,2,3,4]\n",
    "print(grades)\n",
    "print(grades[0])\n",
    "print(grades[3])\n",
    "grades[0]=55 #把55放到列表中第0個位置\n",
    "print(grades)\n",
    "print(grades[1:4]) #取1-4(不包含)的數\n",
    "grades[1:4]=[] #連續刪除列表中1-4(不包含)的資料 #剩55,90在列表中，其他空白\n",
    "print(grades)\n",
    "grades=grades+[12,33]\n",
    "print(grades)\n",
    "length=len(grades) #取得列表長度 #len(列表資料)\n",
    "print(length)"
   ]
  },
  {
   "cell_type": "code",
   "execution_count": 7,
   "id": "31247d6c",
   "metadata": {},
   "outputs": [
    {
     "name": "stdout",
     "output_type": "stream",
     "text": [
      "3\n",
      "7\n",
      "[5, 5, 5, 5]\n",
      "[[5, 5, 5, 5], [6, 7, 8]]\n"
     ]
    }
   ],
   "source": [
    "data=[[3,4,5],[6,7,8]] #巢狀列表\n",
    "print(data[0][0]) #前項0表第0位的列表 #後項0表列表內第0個 #3\n",
    "print(data[1][1]) #7\n",
    "data[0][0:2]=[5,5,5] #把3,4換成5,5,5\n",
    "print(data[0])\n",
    "print(data)"
   ]
  },
  {
   "cell_type": "markdown",
   "id": "80334bc9",
   "metadata": {},
   "source": [
    "Tuple(資料不可變動) #( )"
   ]
  },
  {
   "cell_type": "code",
   "execution_count": 9,
   "id": "9967f8a6",
   "metadata": {},
   "outputs": [
    {
     "name": "stdout",
     "output_type": "stream",
     "text": [
      "(3, 4)\n"
     ]
    }
   ],
   "source": [
    "data=(3,4,5)\n",
    "print(data[0:2])\n",
    "#data[0]=5 #error:Tuple的資料不可變動"
   ]
  },
  {
   "cell_type": "code",
   "execution_count": null,
   "id": "63c53f5c",
   "metadata": {},
   "outputs": [],
   "source": []
  }
 ],
 "metadata": {
  "kernelspec": {
   "display_name": "Python 3 (ipykernel)",
   "language": "python",
   "name": "python3"
  },
  "language_info": {
   "codemirror_mode": {
    "name": "ipython",
    "version": 3
   },
   "file_extension": ".py",
   "mimetype": "text/x-python",
   "name": "python",
   "nbconvert_exporter": "python",
   "pygments_lexer": "ipython3",
   "version": "3.9.7"
  }
 },
 "nbformat": 4,
 "nbformat_minor": 5
}
