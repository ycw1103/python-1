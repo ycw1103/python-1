{
 "cells": [
  {
   "cell_type": "markdown",
   "id": "3941aeaf",
   "metadata": {},
   "source": [
    "# 模組Module:獨立的程式檔案"
   ]
  },
  {
   "cell_type": "raw",
   "id": "fbd0d2ed",
   "metadata": {},
   "source": [
    "將程式寫在一個檔案中，此檔案可重複載入使用\n",
    "載入>使用:先載入模組，在使用模駔中的函式或變數"
   ]
  },
  {
   "cell_type": "raw",
   "id": "6d5468e4",
   "metadata": {},
   "source": [
    "1.載入模組\n",
    "import 模組名稱\n",
    "import 模組名稱 as 模組別名\n",
    "#幫模組取名，方便使用"
   ]
  },
  {
   "cell_type": "raw",
   "id": "d8655494",
   "metadata": {},
   "source": [
    "2.使用模組\n",
    "模組名稱或別名.函式名稱(參數資料)\n",
    "模組名稱或別名.變數名稱"
   ]
  },
  {
   "cell_type": "code",
   "execution_count": 19,
   "id": "88bb11f3",
   "metadata": {},
   "outputs": [
    {
     "name": "stdout",
     "output_type": "stream",
     "text": [
      "win32\n",
      "9223372036854775807\n",
      "['C:\\\\Users\\\\user\\\\Desktop\\\\python彭彭', 'C:\\\\Users\\\\user\\\\anaconda3\\\\Anaconda\\\\python39.zip', 'C:\\\\Users\\\\user\\\\anaconda3\\\\Anaconda\\\\DLLs', 'C:\\\\Users\\\\user\\\\anaconda3\\\\Anaconda\\\\lib', 'C:\\\\Users\\\\user\\\\anaconda3\\\\Anaconda', '', 'C:\\\\Users\\\\user\\\\anaconda3\\\\Anaconda\\\\lib\\\\site-packages', 'C:\\\\Users\\\\user\\\\anaconda3\\\\Anaconda\\\\lib\\\\site-packages\\\\locket-0.2.1-py3.9.egg', 'C:\\\\Users\\\\user\\\\anaconda3\\\\Anaconda\\\\lib\\\\site-packages\\\\win32', 'C:\\\\Users\\\\user\\\\anaconda3\\\\Anaconda\\\\lib\\\\site-packages\\\\win32\\\\lib', 'C:\\\\Users\\\\user\\\\anaconda3\\\\Anaconda\\\\lib\\\\site-packages\\\\Pythonwin', 'C:\\\\Users\\\\user\\\\anaconda3\\\\Anaconda\\\\lib\\\\site-packages\\\\IPython\\\\extensions', 'C:\\\\Users\\\\user\\\\.ipython', 'module', 'module', 'python彭彭', 'python彭彭', 'python彭彭', 'python彭彭', 'python彭彭']\n"
     ]
    }
   ],
   "source": [
    "#內建模組 例：sys模組(取得系統相關資訊)\n",
    "#載入sys模組\n",
    "import sys\n",
    "#使用sys模組\n",
    "print(sys.platform)#印出作業系統\n",
    "print(sys.maxsize)#印出整數型態的最大值\n",
    "print(sys.path)#印出搜尋模組的路徑\n",
    "#載入sys模組(利用別名)\n",
    "#import sys as s\n",
    "#使用sys模組\n",
    "#print(s.platform)#印出作業系統\n",
    "#print(s.maxsize)#印ul數型態的最大值\n",
    "#print(s.path)#印出搜尋模組的路徑"
   ]
  },
  {
   "cell_type": "code",
   "execution_count": 20,
   "id": "ec6a8f64",
   "metadata": {},
   "outputs": [
    {
     "name": "stdout",
     "output_type": "stream",
     "text": [
      "['C:\\\\Users\\\\user\\\\Desktop\\\\python彭彭', 'C:\\\\Users\\\\user\\\\anaconda3\\\\Anaconda\\\\python39.zip', 'C:\\\\Users\\\\user\\\\anaconda3\\\\Anaconda\\\\DLLs', 'C:\\\\Users\\\\user\\\\anaconda3\\\\Anaconda\\\\lib', 'C:\\\\Users\\\\user\\\\anaconda3\\\\Anaconda', '', 'C:\\\\Users\\\\user\\\\anaconda3\\\\Anaconda\\\\lib\\\\site-packages', 'C:\\\\Users\\\\user\\\\anaconda3\\\\Anaconda\\\\lib\\\\site-packages\\\\locket-0.2.1-py3.9.egg', 'C:\\\\Users\\\\user\\\\anaconda3\\\\Anaconda\\\\lib\\\\site-packages\\\\win32', 'C:\\\\Users\\\\user\\\\anaconda3\\\\Anaconda\\\\lib\\\\site-packages\\\\win32\\\\lib', 'C:\\\\Users\\\\user\\\\anaconda3\\\\Anaconda\\\\lib\\\\site-packages\\\\Pythonwin', 'C:\\\\Users\\\\user\\\\anaconda3\\\\Anaconda\\\\lib\\\\site-packages\\\\IPython\\\\extensions', 'C:\\\\Users\\\\user\\\\.ipython', 'module', 'module', 'python彭彭', 'python彭彭', 'python彭彭', 'python彭彭', 'python彭彭', 'modules']\n"
     ]
    }
   ],
   "source": [
    "#調整搜尋模組的路徑\n",
    "import sys\n",
    "#在模組的搜尋路徑列表中[新增路徑]\n",
    "sys.path.append(\"modules\") #假設自創了一個模組geometry，但放到不同的資料夾，放到新的modules資料夾，因此就必須打這個模組才可以被搜尋到\n",
    "print(sys.path) #印出模組的搜尋路徑列表"
   ]
  },
  {
   "cell_type": "code",
   "execution_count": 21,
   "id": "68ea7ab6",
   "metadata": {},
   "outputs": [
    {
     "name": "stdout",
     "output_type": "stream",
     "text": [
      "['C:\\\\Users\\\\user\\\\Desktop\\\\python彭彭', 'C:\\\\Users\\\\user\\\\anaconda3\\\\Anaconda\\\\python39.zip', 'C:\\\\Users\\\\user\\\\anaconda3\\\\Anaconda\\\\DLLs', 'C:\\\\Users\\\\user\\\\anaconda3\\\\Anaconda\\\\lib', 'C:\\\\Users\\\\user\\\\anaconda3\\\\Anaconda', '', 'C:\\\\Users\\\\user\\\\anaconda3\\\\Anaconda\\\\lib\\\\site-packages', 'C:\\\\Users\\\\user\\\\anaconda3\\\\Anaconda\\\\lib\\\\site-packages\\\\locket-0.2.1-py3.9.egg', 'C:\\\\Users\\\\user\\\\anaconda3\\\\Anaconda\\\\lib\\\\site-packages\\\\win32', 'C:\\\\Users\\\\user\\\\anaconda3\\\\Anaconda\\\\lib\\\\site-packages\\\\win32\\\\lib', 'C:\\\\Users\\\\user\\\\anaconda3\\\\Anaconda\\\\lib\\\\site-packages\\\\Pythonwin', 'C:\\\\Users\\\\user\\\\anaconda3\\\\Anaconda\\\\lib\\\\site-packages\\\\IPython\\\\extensions', 'C:\\\\Users\\\\user\\\\.ipython', 'module', 'module', 'python彭彭', 'python彭彭', 'python彭彭', 'python彭彭', 'python彭彭', 'modules']\n"
     ]
    },
    {
     "ename": "ModuleNotFoundError",
     "evalue": "No module named 'geometry'",
     "output_type": "error",
     "traceback": [
      "\u001b[1;31m---------------------------------------------------------------------------\u001b[0m",
      "\u001b[1;31mModuleNotFoundError\u001b[0m                       Traceback (most recent call last)",
      "\u001b[1;32m~\\AppData\\Local\\Temp/ipykernel_6292/1513569462.py\u001b[0m in \u001b[0;36m<module>\u001b[1;34m\u001b[0m\n\u001b[0;32m      3\u001b[0m \u001b[1;32mimport\u001b[0m \u001b[0msys\u001b[0m \u001b[1;32mas\u001b[0m \u001b[0ms\u001b[0m\u001b[1;33m\u001b[0m\u001b[1;33m\u001b[0m\u001b[0m\n\u001b[0;32m      4\u001b[0m \u001b[0mprint\u001b[0m\u001b[1;33m(\u001b[0m\u001b[0ms\u001b[0m\u001b[1;33m.\u001b[0m\u001b[0mpath\u001b[0m\u001b[1;33m)\u001b[0m\u001b[1;33m\u001b[0m\u001b[1;33m\u001b[0m\u001b[0m\n\u001b[1;32m----> 5\u001b[1;33m \u001b[1;32mimport\u001b[0m \u001b[0mgeometry\u001b[0m\u001b[1;33m.\u001b[0m\u001b[0mpy\u001b[0m\u001b[1;33m\u001b[0m\u001b[1;33m\u001b[0m\u001b[0m\n\u001b[0m\u001b[0;32m      6\u001b[0m \u001b[0mresult\u001b[0m\u001b[1;33m=\u001b[0m\u001b[0mgeometry\u001b[0m\u001b[1;33m.\u001b[0m\u001b[0mdistance\u001b[0m\u001b[1;33m(\u001b[0m\u001b[1;36m1\u001b[0m\u001b[1;33m,\u001b[0m\u001b[1;36m1\u001b[0m\u001b[1;33m,\u001b[0m\u001b[1;36m5\u001b[0m\u001b[1;33m,\u001b[0m\u001b[1;36m5\u001b[0m\u001b[1;33m)\u001b[0m\u001b[1;33m\u001b[0m\u001b[1;33m\u001b[0m\u001b[0m\n\u001b[0;32m      7\u001b[0m \u001b[0mprint\u001b[0m\u001b[1;33m(\u001b[0m\u001b[0mresult\u001b[0m\u001b[1;33m)\u001b[0m\u001b[1;33m\u001b[0m\u001b[1;33m\u001b[0m\u001b[0m\n",
      "\u001b[1;31mModuleNotFoundError\u001b[0m: No module named 'geometry'"
     ]
    }
   ],
   "source": [
    "#建立模組\n",
    "#建立geometry模組，載入使用\n",
    "import sys as s\n",
    "print(s.path)\n",
    "import geometry.py\n",
    "result=geometry.distance(1,1,5,5)\n",
    "print(result)"
   ]
  }
 ],
 "metadata": {
  "kernelspec": {
   "display_name": "Python 3 (ipykernel)",
   "language": "python",
   "name": "python3"
  },
  "language_info": {
   "codemirror_mode": {
    "name": "ipython",
    "version": 3
   },
   "file_extension": ".py",
   "mimetype": "text/x-python",
   "name": "python",
   "nbconvert_exporter": "python",
   "pygments_lexer": "ipython3",
   "version": "3.9.7"
  }
 },
 "nbformat": 4,
 "nbformat_minor": 5
}
