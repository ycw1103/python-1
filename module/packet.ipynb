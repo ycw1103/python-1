{
 "cells": [
  {
   "cell_type": "markdown",
   "id": "063b18ee",
   "metadata": {},
   "source": [
    "# 封包：\n",
    "用來整理、分類模組(像是檔案系統中的資料夾)"
   ]
  },
  {
   "cell_type": "raw",
   "id": "0d8c9891",
   "metadata": {},
   "source": [
    "1. 建立封包\n",
    "專案檔案配置\n",
    "- 專案資料夾\n",
    "    -主程式.py\n",
    "    -封包資料夾\n",
    "        -__init__.py #要裝這個檔案才會被當成封包\n",
    "        -模組一.py\n",
    "        -模組二.py"
   ]
  },
  {
   "cell_type": "raw",
   "id": "aac791b7",
   "metadata": {},
   "source": [
    "例：\n",
    "- 專案資料夾\n",
    "    -main.py\n",
    "    -geometry\n",
    "        -__init__.py #要裝這個檔案才會被當成封包\n",
    "        -point.py\n",
    "        -line.py"
   ]
  },
  {
   "cell_type": "raw",
   "id": "84760df3",
   "metadata": {},
   "source": [
    "import 封包名稱.模組名稱\n",
    "import 封包名稱.模組名稱 as 模組別名"
   ]
  }
 ],
 "metadata": {
  "kernelspec": {
   "display_name": "Python 3 (ipykernel)",
   "language": "python",
   "name": "python3"
  },
  "language_info": {
   "codemirror_mode": {
    "name": "ipython",
    "version": 3
   },
   "file_extension": ".py",
   "mimetype": "text/x-python",
   "name": "python",
   "nbconvert_exporter": "python",
   "pygments_lexer": "ipython3",
   "version": "3.9.7"
  }
 },
 "nbformat": 4,
 "nbformat_minor": 5
}
