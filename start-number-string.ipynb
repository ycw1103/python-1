{
 "cells": [
  {
   "cell_type": "code",
   "execution_count": 1,
   "id": "a60848a2",
   "metadata": {},
   "outputs": [
    {
     "name": "stdout",
     "output_type": "stream",
     "text": [
      "Python is fun\n",
      "Let's go\n",
      "\\n is skip a line\n",
      "|\tHello, world|\n",
      "\"Hello, everyone\"\n",
      "Radius = 12\n"
     ]
    }
   ],
   "source": [
    "print('Python is fun')\n",
    "print('Let\\'s go')#\\'單引號\n",
    "print('\\\\n is skip a line')#\\n換行\n",
    "print('|\\tHello, world|')#\\t跳8格\n",
    "print('\\\"Hello, everyone\\\"')#\\\"雙引號\n",
    "print('Radius =',12)"
   ]
  },
  {
   "cell_type": "code",
   "execution_count": 2,
   "id": "9a6bf8b8",
   "metadata": {},
   "outputs": [
    {
     "name": "stdout",
     "output_type": "stream",
     "text": [
      "Hello, world\n",
      "Hello, world\n"
     ]
    }
   ],
   "source": [
    "print('Hello, ',end='')#,end=''不換行繼續在同行顯示\n",
    "print('world')\n",
    "print('Hello,','world')"
   ]
  },
  {
   "cell_type": "code",
   "execution_count": 3,
   "id": "85b91b71",
   "metadata": {},
   "outputs": [
    {
     "name": "stdout",
     "output_type": "stream",
     "text": [
      "***Hello, ***world\n",
      "Hello, python\n",
      "excellent!!!\n"
     ]
    }
   ],
   "source": [
    "print('***Hello, ',end='***')\n",
    "print('world')\n",
    "print('Hello, python\\nexcellent!!!')"
   ]
  },
  {
   "cell_type": "markdown",
   "id": "abe8bed2",
   "metadata": {},
   "source": [
    "# format(資料,'空格數+資料形式')#對一個資料項目"
   ]
  },
  {
   "cell_type": "code",
   "execution_count": 4,
   "id": "d229776c",
   "metadata": {},
   "outputs": [
    {
     "name": "stdout",
     "output_type": "stream",
     "text": [
      "     100\n",
      "100000\n",
      "      64\n",
      "     144\n",
      " 1100100\n",
      "23.90%\n",
      " 123.457\n"
     ]
    }
   ],
   "source": [
    "print(format(100,'8d'))#8個空格(向右對齊),d:整數\n",
    "print(format(100000,'3d'))\n",
    "print(format(100,'8x'))#十六進位\n",
    "print(format(100,'8o'))#八進位\n",
    "print(format(100,'8b'))#二進位\n",
    "print(format(0.23898,'6.2%'))#6個空格,小數點後第2位,%:百分比\n",
    "print(format(123.4567,'8.3f'))#8個空格,小數點後第3位,f:小數點"
   ]
  },
  {
   "cell_type": "code",
   "execution_count": 5,
   "id": "79c33c87",
   "metadata": {},
   "outputs": [
    {
     "name": "stdout",
     "output_type": "stream",
     "text": [
      "Python is fun  \n",
      "  Python is fun\n"
     ]
    }
   ],
   "source": [
    "print(format('Python is fun','15s'))#15個空格(向左對齊),s:字串\n",
    "print(format('Python is fun','>15s'))#>:向右對齊"
   ]
  },
  {
   "cell_type": "code",
   "execution_count": 6,
   "id": "43468bd7",
   "metadata": {},
   "outputs": [
    {
     "name": "stdout",
     "output_type": "stream",
     "text": [
      "     12345       123   1234567\n",
      "        12   1234567       123\n",
      "   1234567       123     12345\n"
     ]
    }
   ],
   "source": [
    "print(format(12345,'10d'),end='')\n",
    "print(format(123,'10d'),end='')\n",
    "print(format(1234567,'10d'))\n",
    "print(format(12,'10d'),end='')\n",
    "print(format(1234567,'10d'),end='')\n",
    "print(format(123,'10d'))\n",
    "print(format(1234567,'10d'),end='')\n",
    "print(format(123,'10d'),end='')\n",
    "print(format(12345,'10d'))"
   ]
  },
  {
   "cell_type": "markdown",
   "id": "967fe142",
   "metadata": {},
   "source": [
    "# '%空格數+資料形式'%(資料)"
   ]
  },
  {
   "cell_type": "code",
   "execution_count": 7,
   "id": "8bd9a839",
   "metadata": {},
   "outputs": [
    {
     "name": "stdout",
     "output_type": "stream",
     "text": [
      "|     12345|\n",
      "|12345     |\n"
     ]
    }
   ],
   "source": [
    "print('|%10d|'%(12345))#|10個空格|\n",
    "print('|%-10d|'%(12345))#-:靠左對齊"
   ]
  },
  {
   "cell_type": "code",
   "execution_count": 8,
   "id": "0277c16c",
   "metadata": {},
   "outputs": [
    {
     "name": "stdout",
     "output_type": "stream",
     "text": [
      "width=5,height=7,area=24\n"
     ]
    }
   ],
   "source": [
    "print('width=%1d,height=%1d,area=%2d'%(5,7,24))"
   ]
  },
  {
   "cell_type": "code",
   "execution_count": 9,
   "id": "57b4ff69",
   "metadata": {},
   "outputs": [
    {
     "name": "stdout",
     "output_type": "stream",
     "text": [
      "     12345       123   1234567\n",
      "        12   1234567       123\n",
      "   1234567       123     12345\n"
     ]
    }
   ],
   "source": [
    "print('%10d%10d%10d'%(12345,123,1234567))\n",
    "print('%10d%10d%10d'%(12,1234567,123))\n",
    "print('%10d%10d%10d'%(1234567,123,12345))"
   ]
  },
  {
   "cell_type": "code",
   "execution_count": 10,
   "id": "ce329461",
   "metadata": {},
   "outputs": [
    {
     "name": "stdout",
     "output_type": "stream",
     "text": [
      "100% orange juice\n"
     ]
    }
   ],
   "source": [
    "print('%d%% orange juice'%(100))"
   ]
  },
  {
   "cell_type": "markdown",
   "id": "b31433f7",
   "metadata": {},
   "source": [
    "# '{第幾位:空格+資料形式}'.format(資料1,資料2)#對兩個資料項目"
   ]
  },
  {
   "cell_type": "code",
   "execution_count": 11,
   "id": "fa630281",
   "metadata": {},
   "outputs": [
    {
     "name": "stdout",
     "output_type": "stream",
     "text": [
      "123\n",
      "123,12345\n",
      "  123,  12345\n",
      "x=  123,y=  12345\n"
     ]
    }
   ],
   "source": [
    "print('{0}'.format(123))\n",
    "print('{0},{1}'.format(123,12345))\n",
    "print('{0:5d},{1:7d}'.format(123,12345))\n",
    "print('x={p:5d},y={q:7d}'.format(p=123,q=12345))"
   ]
  },
  {
   "cell_type": "markdown",
   "id": "878f617d",
   "metadata": {},
   "source": [
    "# 數字運算"
   ]
  },
  {
   "cell_type": "code",
   "execution_count": 12,
   "id": "ba11bc12",
   "metadata": {},
   "outputs": [
    {
     "name": "stdout",
     "output_type": "stream",
     "text": [
      "9 -3 18 0.5 0 8 1.4142135623730951 1\n"
     ]
    }
   ],
   "source": [
    "a=3+6\n",
    "b=3-6\n",
    "c=3*6\n",
    "d=3/6\n",
    "e=3//6#取整數\n",
    "f=2**3#2的3次方\n",
    "g=2**0.5#2開根號\n",
    "h=7%3#取餘數\n",
    "print(a,b,c,d,e,f,g,h)"
   ]
  },
  {
   "cell_type": "code",
   "execution_count": 13,
   "id": "fbe1c857",
   "metadata": {},
   "outputs": [
    {
     "name": "stdout",
     "output_type": "stream",
     "text": [
      "10\n"
     ]
    }
   ],
   "source": [
    "a=a+1 #也可寫做a+=1\n",
    "print(a)"
   ]
  },
  {
   "cell_type": "markdown",
   "id": "01661554",
   "metadata": {},
   "source": [
    "# 字串運算"
   ]
  },
  {
   "cell_type": "code",
   "execution_count": 14,
   "id": "b4ebe367",
   "metadata": {},
   "outputs": [
    {
     "name": "stdout",
     "output_type": "stream",
     "text": [
      "HelloWorld\n",
      "Hello\n",
      "Word\n",
      "Hello\n",
      "\n",
      "\n",
      "World\n"
     ]
    }
   ],
   "source": [
    "s1='Hello'+'World'#加號可以用空格替代\n",
    "s2='Hello\\nWord'#\\n:換行\n",
    "s3='''Hello\n",
    "\n",
    "\n",
    "World'''#三個引號裡面空幾行就幾行\n",
    "s4='Hello'*3 \n",
    "print(s1)\n",
    "print(s2)\n",
    "print(s3)"
   ]
  },
  {
   "cell_type": "code",
   "execution_count": null,
   "id": "853f4335",
   "metadata": {},
   "outputs": [],
   "source": []
  }
 ],
 "metadata": {
  "kernelspec": {
   "display_name": "Python 3 (ipykernel)",
   "language": "python",
   "name": "python3"
  },
  "language_info": {
   "codemirror_mode": {
    "name": "ipython",
    "version": 3
   },
   "file_extension": ".py",
   "mimetype": "text/x-python",
   "name": "python",
   "nbconvert_exporter": "python",
   "pygments_lexer": "ipython3",
   "version": "3.9.7"
  }
 },
 "nbformat": 4,
 "nbformat_minor": 5
}
